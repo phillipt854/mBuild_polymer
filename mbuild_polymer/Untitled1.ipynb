{
 "cells": [
  {
   "cell_type": "code",
   "execution_count": 3,
   "id": "d95317e1",
   "metadata": {},
   "outputs": [],
   "source": [
    "from mbuild_general_polymer import general_polymer"
   ]
  },
  {
   "cell_type": "code",
   "execution_count": 7,
   "id": "3356fa7c",
   "metadata": {},
   "outputs": [
    {
     "data": {
      "application/3dmoljs_load.v0": "<div id=\"3dmolviewer_1636972675674207\"  style=\"position: relative; width: 640px; height: 480px\">\n        <p id=\"3dmolwarning_1636972675674207\" style=\"background-color:#ffcccc;color:black\">You appear to be running in JupyterLab (or JavaScript failed to load for some other reason).  You need to install the 3dmol extension: <br>\n        <tt>jupyter labextension install jupyterlab_3dmol</tt></p>\n        </div>\n<script>\n\nvar loadScriptAsync = function(uri){\n  return new Promise((resolve, reject) => {\n    var tag = document.createElement('script');\n    tag.src = uri;\n    tag.async = true;\n    tag.onload = () => {\n      resolve();\n    };\n  var firstScriptTag = document.getElementsByTagName('script')[0];\n  firstScriptTag.parentNode.insertBefore(tag, firstScriptTag);\n});\n};\n\nif(typeof $3Dmolpromise === 'undefined') {\n$3Dmolpromise = null;\n  $3Dmolpromise = loadScriptAsync('https://3dmol.org/build/3Dmol.js');\n}\n\nvar viewer_1636972675674207 = null;\nvar warn = document.getElementById(\"3dmolwarning_1636972675674207\");\nif(warn) {\n    warn.parentNode.removeChild(warn);\n}\n$3Dmolpromise.then(function() {\nviewer_1636972675674207 = $3Dmol.createViewer($(\"#3dmolviewer_1636972675674207\"),{backgroundColor:\"white\"});\nviewer_1636972675674207.zoomTo();\n\tviewer_1636972675674207.addSphere({\"center\": {\"x\": 0.0, \"y\": 0.0, \"z\": 0.0}, \"radius\": 0.5, \"color\": \"red\", \"alpha\": 0.9});\n\tviewer_1636972675674207.addSphere({\"center\": {\"x\": 0.37, \"y\": 5.688306209207228e-17, \"z\": 4.107604359274041e-18}, \"radius\": 0.2, \"color\": \"yellow\", \"alpha\": 0.9});\n\tviewer_1636972675674207.addSphere({\"center\": {\"x\": 1.0089323000700467e-16, \"y\": -0.49999999999999994, \"z\": -2.1006306141561523e-17}, \"radius\": 0.5, \"color\": \"blue\", \"alpha\": 0.9});\n\tviewer_1636972675674207.addSphere({\"center\": {\"x\": 0.42000000000000015, \"y\": -0.49999999999999983, \"z\": -4.4471468522642243e-17}, \"radius\": 0.2, \"color\": \"green\", \"alpha\": 0.9});\n\tviewer_1636972675674207.zoomTo();\nviewer_1636972675674207.render();\n});\n</script>",
      "text/html": [
       "<div id=\"3dmolviewer_1636972675674207\"  style=\"position: relative; width: 640px; height: 480px\">\n",
       "        <p id=\"3dmolwarning_1636972675674207\" style=\"background-color:#ffcccc;color:black\">You appear to be running in JupyterLab (or JavaScript failed to load for some other reason).  You need to install the 3dmol extension: <br>\n",
       "        <tt>jupyter labextension install jupyterlab_3dmol</tt></p>\n",
       "        </div>\n",
       "<script>\n",
       "\n",
       "var loadScriptAsync = function(uri){\n",
       "  return new Promise((resolve, reject) => {\n",
       "    var tag = document.createElement('script');\n",
       "    tag.src = uri;\n",
       "    tag.async = true;\n",
       "    tag.onload = () => {\n",
       "      resolve();\n",
       "    };\n",
       "  var firstScriptTag = document.getElementsByTagName('script')[0];\n",
       "  firstScriptTag.parentNode.insertBefore(tag, firstScriptTag);\n",
       "});\n",
       "};\n",
       "\n",
       "if(typeof $3Dmolpromise === 'undefined') {\n",
       "$3Dmolpromise = null;\n",
       "  $3Dmolpromise = loadScriptAsync('https://3dmol.org/build/3Dmol.js');\n",
       "}\n",
       "\n",
       "var viewer_1636972675674207 = null;\n",
       "var warn = document.getElementById(\"3dmolwarning_1636972675674207\");\n",
       "if(warn) {\n",
       "    warn.parentNode.removeChild(warn);\n",
       "}\n",
       "$3Dmolpromise.then(function() {\n",
       "viewer_1636972675674207 = $3Dmol.createViewer($(\"#3dmolviewer_1636972675674207\"),{backgroundColor:\"white\"});\n",
       "viewer_1636972675674207.zoomTo();\n",
       "\tviewer_1636972675674207.addSphere({\"center\": {\"x\": 0.0, \"y\": 0.0, \"z\": 0.0}, \"radius\": 0.5, \"color\": \"red\", \"alpha\": 0.9});\n",
       "\tviewer_1636972675674207.addSphere({\"center\": {\"x\": 0.37, \"y\": 5.688306209207228e-17, \"z\": 4.107604359274041e-18}, \"radius\": 0.2, \"color\": \"yellow\", \"alpha\": 0.9});\n",
       "\tviewer_1636972675674207.addSphere({\"center\": {\"x\": 1.0089323000700467e-16, \"y\": -0.49999999999999994, \"z\": -2.1006306141561523e-17}, \"radius\": 0.5, \"color\": \"blue\", \"alpha\": 0.9});\n",
       "\tviewer_1636972675674207.addSphere({\"center\": {\"x\": 0.42000000000000015, \"y\": -0.49999999999999983, \"z\": -4.4471468522642243e-17}, \"radius\": 0.2, \"color\": \"green\", \"alpha\": 0.9});\n",
       "\tviewer_1636972675674207.zoomTo();\n",
       "viewer_1636972675674207.render();\n",
       "});\n",
       "</script>"
      ]
     },
     "metadata": {},
     "output_type": "display_data"
    }
   ],
   "source": [
    "gp = general_polymer('pvpy_pvph.yml')\n",
    "gp._get_M('pvpy')\n",
    "seq = ['pvpy','pvph']\n",
    "#print(seq[0])\n",
    "chain = gp.gen_chain(seq)\n",
    "v = gp.visualize(chain)"
   ]
  },
  {
   "cell_type": "code",
   "execution_count": 4,
   "id": "325bf498",
   "metadata": {},
   "outputs": [
    {
     "data": {
      "text/plain": [
       "{'pvpy': {'r0BB': 1,\n",
       "  'r0BBHB': 0.37,\n",
       "  'r0HB': 0.1,\n",
       "  'HB_orient': [1, 0, 0],\n",
       "  'color_BB': 'red',\n",
       "  'color_HB': 'yellow'},\n",
       " 'pvph': {'r0BB': 1.0,\n",
       "  'r0BBHB': 0.42,\n",
       "  'r0HB': 0.1,\n",
       "  'HB_orient': [1, 0, 0],\n",
       "  'color_BB': 'blue',\n",
       "  'color_HB': 'green'}}"
      ]
     },
     "execution_count": 4,
     "metadata": {},
     "output_type": "execute_result"
    }
   ],
   "source": [
    "from yaml import load, dump\n",
    "from yaml import CLoader as Loader, CDumper as Dumper\n",
    "stream = open('pvpy_pvph.yml', 'r')\n",
    "bead_dict = load(stream, Loader = Loader)\n",
    "bead_dict"
   ]
  }
 ],
 "metadata": {
  "kernelspec": {
   "display_name": "Python 3 (ipykernel)",
   "language": "python",
   "name": "python3"
  },
  "language_info": {
   "codemirror_mode": {
    "name": "ipython",
    "version": 3
   },
   "file_extension": ".py",
   "mimetype": "text/x-python",
   "name": "python",
   "nbconvert_exporter": "python",
   "pygments_lexer": "ipython3",
   "version": "3.8.12"
  }
 },
 "nbformat": 4,
 "nbformat_minor": 5
}
